{
 "cells": [
  {
   "cell_type": "markdown",
   "metadata": {},
   "source": [
    "# Yelp API Project\n",
    "\n",
    "\n",
    "## Introduction \n",
    "\n",
    "We've learned how to query the Yelp API, analyze JSON data and create basic visualizations. It's time to put those skills to work in order to create a project of your own! Taking things a step further, you'll also independently explore how to perform pagination in order to retrieve a full results set from the Yelp API.\n",
    "\n",
    "## Objectives\n",
    "\n",
    "You will be able to: \n",
    "\n",
    "* Practice using functions to organize your code\n",
    "* Use pagination to retrieve all results from an API query\n",
    "* Practice parsing data returned from an API query\n",
    "* Practice interpreting visualizations of a dataset"
   ]
  },
  {
   "cell_type": "markdown",
   "metadata": {},
   "source": [
    "# Task: Query Yelp for All Businesses in a Category and Analyze the Results\n",
    "\n",
    "![restaurant counter with pizza](images/restaurant_counter.jpg)\n",
    "\n",
    "Photo by <a href=\"https://unsplash.com/@jordanmadrid?utm_source=unsplash&utm_medium=referral&utm_content=creditCopyText\">Jordan Madrid</a> on <a href=\"/s/photos/pizza-restaurant?utm_source=unsplash&utm_medium=referral&utm_content=creditCopyText\">Unsplash</a>"
   ]
  },
  {
   "cell_type": "markdown",
   "metadata": {},
   "source": [
    "## Overview\n",
    "\n",
    "You've now worked with some API calls, but we have yet to see how to retrieve a more complete dataset in a programmatic manner. In this lab, you will write a query of businesses on Yelp, then use *pagination* to retrieve all possible results for that query. Then you will pre-process and analyze your data, leading to a presentation of your findings.\n",
    "\n",
    "## Requirements\n",
    "\n",
    "### 1. Make the Initial Request\n",
    "\n",
    "Start by filling in your API key to make the initial request to the business search API. \n",
    "\n",
    "### 2. Add Pagination\n",
    "\n",
    "Using loops and functions, collect the maximum number of results for your query from the API.\n",
    "\n",
    "### 3. Prepare Data\n",
    "\n",
    "Investigate the structure of the response you get back and extract the relevant information.\n",
    "\n",
    "### 4. Perform Descriptive Analysis\n",
    "\n",
    "Interpret visualizations related to the price range, average rating, and number of reviews for all query results.\n",
    "\n",
    "### 5. Create Presentation Notebook\n",
    "\n",
    "Edit this notebook or create a new one to showcase your work."
   ]
  },
  {
   "cell_type": "markdown",
   "metadata": {},
   "source": [
    "# 1. Make the Initial Request\n",
    "\n",
    "## Querying\n",
    "\n",
    "Start by making an initial request to the Yelp API. Your search must include at least 2 parameters: **term** and **location**. For example, you might search for pizza restaurants in NYC. The term and location is up to you but make the request below.\n",
    "\n",
    "Use the `requests` library ([documentation here](https://requests.readthedocs.io/en/master/user/quickstart/#make-a-request)).\n",
    "\n",
    "You'll also need an API key from Yelp. If you haven't done this already, go to the Yelp [Manage App page](https://www.yelp.com/developers/v3/manage_app) and create a new app (after making an account if you haven't already)."
   ]
  },
  {
   "cell_type": "code",
   "execution_count": 1,
   "metadata": {},
   "outputs": [
    {
     "data": {
      "text/plain": [
       "<Response [200]>"
      ]
     },
     "execution_count": 1,
     "metadata": {},
     "output_type": "execute_result"
    }
   ],
   "source": [
    "# Replace None with appropriate code\n",
    "\n",
    "# Import the requests library\n",
    "import json\n",
    "import requests\n",
    "\n",
    "# Get this from the \"Manage App\" page. Make sure you set them\n",
    "# back to None before pushing this to GitHub, since otherwise\n",
    "# your credentials will be compromised\n",
    "def get_keys(path):\n",
    "    with open(path) as f:\n",
    "        return json.load(f)\n",
    "    \n",
    "keys = get_keys('/Users/Adeli/Documents/.secret/yelp_api.json')\n",
    "api_key = keys['api_key']\n",
    "\n",
    "# These can be whatever you want! But the solution uses \"pizza\"\n",
    "# and \"New York NY\" if you want to compare your work directly\n",
    "term = 'pizza'\n",
    "location = 'New York NY'\n",
    "\n",
    "# Set up params for request\n",
    "url = \"https://api.yelp.com/v3/businesses/search\"\n",
    "headers = {\n",
    "    \"Authorization\": \"Bearer {}\".format(api_key)\n",
    "}\n",
    "url_params = {\n",
    "    \"term\": term.replace(\" \", \"+\"),\n",
    "    \"location\": location.replace(\" \", \"+\")\n",
    "}\n",
    "\n",
    "# Make the request using requests.get, passing in\n",
    "# url, headers=headers, and params=url_params\n",
    "response = requests.get(url, headers=headers, params=url_params)\n",
    "\n",
    "# Confirm we got a 200 response\n",
    "response"
   ]
  },
  {
   "cell_type": "code",
   "execution_count": 2,
   "metadata": {},
   "outputs": [
    {
     "data": {
      "text/plain": [
       "dict_keys(['businesses', 'total', 'region'])"
      ]
     },
     "execution_count": 2,
     "metadata": {},
     "output_type": "execute_result"
    }
   ],
   "source": [
    "# Run this cell without changes\n",
    "\n",
    "# Get the response body in JSON format\n",
    "response_json = response.json()\n",
    "# View the keys\n",
    "response_json.keys()"
   ]
  },
  {
   "cell_type": "markdown",
   "metadata": {},
   "source": [
    "## Extracting Data\n",
    "\n",
    "Now, retrieve the value associated with the `'businesses'` key, and inspect its contents."
   ]
  },
  {
   "cell_type": "code",
   "execution_count": 3,
   "metadata": {},
   "outputs": [
    {
     "name": "stdout",
     "output_type": "stream",
     "text": [
      "There are 20 businesses in this response\n"
     ]
    },
    {
     "data": {
      "text/plain": [
       "[{'id': 'zj8Lq1T8KIC5zwFief15jg',\n",
       "  'alias': 'prince-street-pizza-new-york-2',\n",
       "  'name': 'Prince Street Pizza',\n",
       "  'image_url': 'https://s3-media3.fl.yelpcdn.com/bphoto/ZAukOyv530w4KjOHC5YY1w/o.jpg',\n",
       "  'is_closed': False,\n",
       "  'url': 'https://www.yelp.com/biz/prince-street-pizza-new-york-2?adjust_creative=ur9Wljdns4RF6XMXurfFSA&utm_campaign=yelp_api_v3&utm_medium=api_v3_business_search&utm_source=ur9Wljdns4RF6XMXurfFSA',\n",
       "  'review_count': 3936,\n",
       "  'categories': [{'alias': 'pizza', 'title': 'Pizza'},\n",
       "   {'alias': 'italian', 'title': 'Italian'}],\n",
       "  'rating': 4.5,\n",
       "  'coordinates': {'latitude': 40.72308755605564,\n",
       "   'longitude': -73.99453001177575},\n",
       "  'transactions': ['pickup', 'delivery'],\n",
       "  'price': '$',\n",
       "  'location': {'address1': '27 Prince St',\n",
       "   'address2': None,\n",
       "   'address3': '',\n",
       "   'city': 'New York',\n",
       "   'zip_code': '10012',\n",
       "   'country': 'US',\n",
       "   'state': 'NY',\n",
       "   'display_address': ['27 Prince St', 'New York, NY 10012']},\n",
       "  'phone': '+12129664100',\n",
       "  'display_phone': '(212) 966-4100',\n",
       "  'distance': 1961.8771417367063},\n",
       " {'id': 'ysqgdbSrezXgVwER2kQWKA',\n",
       "  'alias': 'julianas-brooklyn-3',\n",
       "  'name': \"Juliana's\",\n",
       "  'image_url': 'https://s3-media2.fl.yelpcdn.com/bphoto/clscwgOF9_Ecq-Rwsq7jyQ/o.jpg',\n",
       "  'is_closed': False,\n",
       "  'url': 'https://www.yelp.com/biz/julianas-brooklyn-3?adjust_creative=ur9Wljdns4RF6XMXurfFSA&utm_campaign=yelp_api_v3&utm_medium=api_v3_business_search&utm_source=ur9Wljdns4RF6XMXurfFSA',\n",
       "  'review_count': 2339,\n",
       "  'categories': [{'alias': 'pizza', 'title': 'Pizza'}],\n",
       "  'rating': 4.5,\n",
       "  'coordinates': {'latitude': 40.70274718768062,\n",
       "   'longitude': -73.99343490196397},\n",
       "  'transactions': ['delivery'],\n",
       "  'price': '$$',\n",
       "  'location': {'address1': '19 Old Fulton St',\n",
       "   'address2': '',\n",
       "   'address3': '',\n",
       "   'city': 'Brooklyn',\n",
       "   'zip_code': '11201',\n",
       "   'country': 'US',\n",
       "   'state': 'NY',\n",
       "   'display_address': ['19 Old Fulton St', 'Brooklyn, NY 11201']},\n",
       "  'phone': '+17185966700',\n",
       "  'display_phone': '(718) 596-6700',\n",
       "  'distance': 308.56984360837544}]"
      ]
     },
     "execution_count": 3,
     "metadata": {},
     "output_type": "execute_result"
    }
   ],
   "source": [
    "# Replace None with appropriate code\n",
    "\n",
    "# Retrieve the value from response_json\n",
    "businesses = response.json()['businesses']\n",
    "\n",
    "# View number of records\n",
    "print(f\"There are {len(businesses)} businesses in this response\")\n",
    "\n",
    "# View the first 2 records\n",
    "businesses[:2]"
   ]
  },
  {
   "cell_type": "markdown",
   "metadata": {},
   "source": [
    "# 2. Add Pagination\n",
    "\n",
    "Now that you are able to get one set of responses, known as a **page**, let's figure out how to request as many pages as possible.\n",
    "\n",
    "## Technical Details\n",
    "\n",
    "Returning to the Yelp API, the [documentation](https://www.yelp.com/developers/documentation/v3/business_search) also provides us details regarding the **API limits**. These often include details about the number of requests a user is allowed to make within a specified time limit and the maximum number of results to be returned. In this case, we are told that any request has a **maximum of 50 results per request** and defaults to 20. Furthermore, any search will be limited to a **total of 1000 results**. To retrieve all 1000 of these results, we would have to page through the results piece by piece, retrieving 50 at a time. Processes such as these are often referred to as pagination.\n",
    "\n",
    "Also, be mindful of the **API** ***rate*** **limits**. You can only make **5000 requests per day** and are also can make requests too fast. Start prototyping small before running a loop that could be faulty. You can also use `time.sleep(n)` to add delays. For more details see https://www.yelp.com/developers/documentation/v3/rate_limiting.\n",
    "\n",
    "In this lab, you will define a search and then paginate over the results to retrieve all of the results. You'll then parse these responses as a list of dictionaries (for further exploration) and create a map using Folium to visualize the results geographically.\n",
    "\n",
    "## Determining the Total\n",
    "\n",
    "Depending on the number of total results for your query, you will either retrieve all of the results, or just the first 1000 (if there are more than 1000 total).\n",
    "\n",
    "We can find the total number of results using the `\"total\"` key:"
   ]
  },
  {
   "cell_type": "code",
   "execution_count": 4,
   "metadata": {},
   "outputs": [
    {
     "data": {
      "text/plain": [
       "11800"
      ]
     },
     "execution_count": 4,
     "metadata": {},
     "output_type": "execute_result"
    }
   ],
   "source": [
    "# Run this cell without changes\n",
    "response_json['total']"
   ]
  },
  {
   "cell_type": "markdown",
   "metadata": {},
   "source": [
    "(This is specific to the implementation of the Yelp API. Some APIs will just tell you that there are more pages, or will tell you the number of pages total, rather than the total number of results. If you're not sure, always check the documentation.)\n",
    "\n",
    "In the cell below, assign the variable `total` to either the value shown above (if it is less than 1000), or 1000."
   ]
  },
  {
   "cell_type": "code",
   "execution_count": 5,
   "metadata": {},
   "outputs": [
    {
     "data": {
      "text/plain": [
       "1000"
      ]
     },
     "execution_count": 5,
     "metadata": {},
     "output_type": "execute_result"
    }
   ],
   "source": [
    "# Replace None with appropriate code\n",
    "total = None\n",
    "if response_json['total'] < 1000:\n",
    "    total = response_json['total']\n",
    "else:\n",
    "    total = 1000\n",
    "total"
   ]
  },
  {
   "cell_type": "markdown",
   "metadata": {},
   "source": [
    "### Calculating the Offsets\n",
    "\n",
    "The documentation states in the parameters section:\n",
    "\n",
    "> **Name**: `limit`, **Type:** int, **Description:** Optional. Number of business results to return. By default, it will return 20. Maximum is 50.\n",
    "\n",
    "> **Name**: `offset`, **Type:** int, **Description:** Optional. Offset the list of returned business results by this amount.\n",
    "\n",
    "So, to get the most results with the fewest API calls we want to set a limit of 50 every time. If, say, we wanted to get 210 total results, that would mean:\n",
    "\n",
    "1. Offset of `0` (first 50 records)\n",
    "2. Offset of `50` (second 50 records)\n",
    "3. Offset of `100` (third 50 records)\n",
    "4. Offset of `150` (fourth 50 records)\n",
    "5. Offset of `200` (final 10 records)\n",
    "\n",
    "In the cell below, create a function `get_offsets` that takes in a total and returns a list of offsets for that total. You can assume that there is a limit of 50 every time.\n",
    "\n",
    "*Hint: you can use `range` ([documentation here](https://docs.python.org/3.3/library/stdtypes.html?highlight=range#range)) to do this in one line of code. Just make the returned result is a list.*"
   ]
  },
  {
   "cell_type": "code",
   "execution_count": 6,
   "metadata": {},
   "outputs": [],
   "source": [
    "# Replace None with appropriate code\n",
    "def get_offsets(total):\n",
    "    offsets = []\n",
    "    for offset in range(0, total, 50): \n",
    "        offsets.append(offset)      \n",
    "    return offsets"
   ]
  },
  {
   "cell_type": "code",
   "execution_count": 7,
   "metadata": {
    "scrolled": true
   },
   "outputs": [
    {
     "data": {
      "text/plain": [
       "[0, 50, 100, 150, 200]"
      ]
     },
     "execution_count": 7,
     "metadata": {},
     "output_type": "execute_result"
    }
   ],
   "source": [
    "get_offsets(210)\n"
   ]
  },
  {
   "cell_type": "markdown",
   "metadata": {},
   "source": [
    "Check that your function works below:"
   ]
  },
  {
   "cell_type": "code",
   "execution_count": 8,
   "metadata": {},
   "outputs": [],
   "source": [
    "# Run this cell without changes\n",
    "\n",
    "assert get_offsets(200) == [0, 50, 100, 150]\n",
    "assert get_offsets(210) == [0, 50, 100, 150, 200]"
   ]
  },
  {
   "cell_type": "markdown",
   "metadata": {},
   "source": [
    "### Putting It All Together\n",
    "\n",
    "Recall that the following variable has already been declared for you:"
   ]
  },
  {
   "cell_type": "code",
   "execution_count": 9,
   "metadata": {},
   "outputs": [
    {
     "data": {
      "text/plain": [
       "{'term': 'pizza', 'location': 'New+York+NY'}"
      ]
     },
     "execution_count": 9,
     "metadata": {},
     "output_type": "execute_result"
    }
   ],
   "source": [
    "# Run this cell without changes\n",
    "url_params"
   ]
  },
  {
   "cell_type": "markdown",
   "metadata": {},
   "source": [
    "We'll go ahead and also specify that the limit should be 50 every time:"
   ]
  },
  {
   "cell_type": "code",
   "execution_count": 10,
   "metadata": {},
   "outputs": [],
   "source": [
    "# Run this cell without changes\n",
    "url_params[\"limit\"] = 50"
   ]
  },
  {
   "cell_type": "markdown",
   "metadata": {},
   "source": [
    "In order to modify the offset, you'll need to add it to `url_params` with the key `\"offset\"` and whatever value is needed.\n",
    "\n",
    "In the cell below, write code that:\n",
    "\n",
    "* Creates an empty list for the full prepared dataset\n",
    "* Loops over all of the offsets from `get_offsets` and makes an API call each time with the specified offset\n",
    "* Extends the full dataset list with each query's dataset"
   ]
  },
  {
   "cell_type": "code",
   "execution_count": 11,
   "metadata": {},
   "outputs": [
    {
     "data": {
      "text/plain": [
       "1000"
      ]
     },
     "execution_count": 11,
     "metadata": {},
     "output_type": "execute_result"
    }
   ],
   "source": [
    "# Replace None with appropriate code\n",
    "\n",
    "# Create an empty list for the full prepared dataset\n",
    "full_dataset = []\n",
    "\n",
    "for offset in get_offsets(total):\n",
    "    # Add or update the \"offset\" key-value pair in url_params\n",
    "    url_params['offset'] = offset\n",
    "    \n",
    "    # Make the query and get the response\n",
    "    response = requests.get(url, headers=headers, params=url_params)\n",
    "    \n",
    "    # Get the response body in JSON format\n",
    "    response_json = response.json()\n",
    "    \n",
    "    # Get the list of businesses from the response_json\n",
    "    businesses = response.json()['businesses']\n",
    "    \n",
    "    # Extend full_dataset with this list (don't append, or you'll get\n",
    "    # a list of lists instead of a flat list)\n",
    "    full_dataset.extend(businesses)\n",
    "\n",
    "# Check the length of the full dataset. It will be up to `total`,\n",
    "# potentially less if there were missing values\n",
    "len(full_dataset)"
   ]
  },
  {
   "cell_type": "markdown",
   "metadata": {},
   "source": [
    "This code may take up to a few minutes to run.\n",
    "\n",
    "If you get an error trying to get the response body in JSON format, try adding `time.sleep(1)` right after the `requests.get` line, so your code will sleep for 1 second between each API call."
   ]
  },
  {
   "cell_type": "markdown",
   "metadata": {},
   "source": [
    "# 3. Prepare Data\n",
    "\n",
    "Now that we have all of our data, let's prepare it for analysis. It can be helpful to start this process by inspecting the raw data."
   ]
  },
  {
   "cell_type": "code",
   "execution_count": 12,
   "metadata": {},
   "outputs": [
    {
     "data": {
      "text/plain": [
       "[{'id': 'zj8Lq1T8KIC5zwFief15jg',\n",
       "  'alias': 'prince-street-pizza-new-york-2',\n",
       "  'name': 'Prince Street Pizza',\n",
       "  'image_url': 'https://s3-media3.fl.yelpcdn.com/bphoto/ZAukOyv530w4KjOHC5YY1w/o.jpg',\n",
       "  'is_closed': False,\n",
       "  'url': 'https://www.yelp.com/biz/prince-street-pizza-new-york-2?adjust_creative=ur9Wljdns4RF6XMXurfFSA&utm_campaign=yelp_api_v3&utm_medium=api_v3_business_search&utm_source=ur9Wljdns4RF6XMXurfFSA',\n",
       "  'review_count': 3936,\n",
       "  'categories': [{'alias': 'pizza', 'title': 'Pizza'},\n",
       "   {'alias': 'italian', 'title': 'Italian'}],\n",
       "  'rating': 4.5,\n",
       "  'coordinates': {'latitude': 40.72308755605564,\n",
       "   'longitude': -73.99453001177575},\n",
       "  'transactions': ['pickup', 'delivery'],\n",
       "  'price': '$',\n",
       "  'location': {'address1': '27 Prince St',\n",
       "   'address2': None,\n",
       "   'address3': '',\n",
       "   'city': 'New York',\n",
       "   'zip_code': '10012',\n",
       "   'country': 'US',\n",
       "   'state': 'NY',\n",
       "   'display_address': ['27 Prince St', 'New York, NY 10012']},\n",
       "  'phone': '+12129664100',\n",
       "  'display_phone': '(212) 966-4100',\n",
       "  'distance': 1961.8771417367063},\n",
       " {'id': 'ysqgdbSrezXgVwER2kQWKA',\n",
       "  'alias': 'julianas-brooklyn-3',\n",
       "  'name': \"Juliana's\",\n",
       "  'image_url': 'https://s3-media2.fl.yelpcdn.com/bphoto/clscwgOF9_Ecq-Rwsq7jyQ/o.jpg',\n",
       "  'is_closed': False,\n",
       "  'url': 'https://www.yelp.com/biz/julianas-brooklyn-3?adjust_creative=ur9Wljdns4RF6XMXurfFSA&utm_campaign=yelp_api_v3&utm_medium=api_v3_business_search&utm_source=ur9Wljdns4RF6XMXurfFSA',\n",
       "  'review_count': 2339,\n",
       "  'categories': [{'alias': 'pizza', 'title': 'Pizza'}],\n",
       "  'rating': 4.5,\n",
       "  'coordinates': {'latitude': 40.70274718768062,\n",
       "   'longitude': -73.99343490196397},\n",
       "  'transactions': ['delivery'],\n",
       "  'price': '$$',\n",
       "  'location': {'address1': '19 Old Fulton St',\n",
       "   'address2': '',\n",
       "   'address3': '',\n",
       "   'city': 'Brooklyn',\n",
       "   'zip_code': '11201',\n",
       "   'country': 'US',\n",
       "   'state': 'NY',\n",
       "   'display_address': ['19 Old Fulton St', 'Brooklyn, NY 11201']},\n",
       "  'phone': '+17185966700',\n",
       "  'display_phone': '(718) 596-6700',\n",
       "  'distance': 308.56984360837544}]"
      ]
     },
     "execution_count": 12,
     "metadata": {},
     "output_type": "execute_result"
    }
   ],
   "source": [
    "# Run this cell without changes\n",
    "\n",
    "# View the first 2 records\n",
    "full_dataset[:2]"
   ]
  },
  {
   "cell_type": "markdown",
   "metadata": {},
   "source": [
    "Write a function `prepare_data` that takes in a list of dictionaries like `businesses` and returns a copy that has been prepared for analysis:\n",
    "\n",
    "1. The `coordinates` key-value pair has been converted into two separate key-value pairs, `latitude` and `longitude`\n",
    "2. All other key-value pairs except for `name`, `review_count`, `rating`, and `price` have been dropped\n",
    "3. All dictionaries missing one of the relevant keys or containing null values have been dropped\n",
    "\n",
    "In other words, the final keys for each dictionary should be `name`, `review_count`, `rating`, `price`, `latitude`, and `longitude`.\n",
    "\n",
    "Complete the function in the cell below:"
   ]
  },
  {
   "cell_type": "code",
   "execution_count": 13,
   "metadata": {},
   "outputs": [
    {
     "data": {
      "text/plain": [
       "[{'name': 'Prince Street Pizza',\n",
       "  'review_count': 3936,\n",
       "  'rating': 4.5,\n",
       "  'price': '$',\n",
       "  'latitude': 40.72308755605564,\n",
       "  'longitude': -73.99453001177575},\n",
       " {'name': \"Juliana's\",\n",
       "  'review_count': 2339,\n",
       "  'rating': 4.5,\n",
       "  'price': '$$',\n",
       "  'latitude': 40.70274718768062,\n",
       "  'longitude': -73.99343490196397},\n",
       " {'name': \"Lombardi's Pizza\",\n",
       "  'review_count': 6179,\n",
       "  'rating': 4.0,\n",
       "  'price': '$$',\n",
       "  'latitude': 40.7215934960083,\n",
       "  'longitude': -73.9955956044561},\n",
       " {'name': 'Lucali',\n",
       "  'review_count': 1697,\n",
       "  'rating': 4.0,\n",
       "  'price': '$$',\n",
       "  'latitude': 40.6818,\n",
       "  'longitude': -74.00024},\n",
       " {'name': 'Rubirosa',\n",
       "  'review_count': 2421,\n",
       "  'rating': 4.5,\n",
       "  'price': '$$',\n",
       "  'latitude': 40.722766,\n",
       "  'longitude': -73.996233}]"
      ]
     },
     "execution_count": 13,
     "metadata": {},
     "output_type": "execute_result"
    }
   ],
   "source": [
    "# Replace None with appropriate code\n",
    "\n",
    "def prepare_data(data_list):\n",
    "    results = []  \n",
    "    for business_data in data_list:   \n",
    "        \n",
    "        # Make a new dictionary to hold prepared data for this business\n",
    "        prepared_data = {}        \n",
    "\n",
    "        # Extract name, review_count, rating, and price key-value pairs\n",
    "        # from business_data and add to prepared_data\n",
    "        # If a key is not present in business_data, add it to prepared_data\n",
    "        # with an associated value of None\n",
    "        \n",
    "        for key, value in business_data.items():\n",
    "            key_list = ['name','review_count','rating','price']\n",
    "            for key in key_list:\n",
    "                prepared_data[key] = business_data.get(key)\n",
    "                \n",
    "\n",
    "# Found a more efficient way than coding for each key so below code not used\n",
    "\n",
    "# Was not clear on the instruction:\n",
    "# 'If a key is not present in business_data, \n",
    "# add it to prepared_data with an associated value of None'\n",
    "# because the filter below removes businesses with values of None anyway\n",
    "# so added default value of string 'None' to return businesses\n",
    "\n",
    "#                 prepared_data['name'] = business_data.get('name','None')\n",
    "#                 prepared_data['review_count'] = business_data.get('review_count','None')\n",
    "#                 prepared_data['rating'] = business_data.get('rating','None')\n",
    "#                 prepared_data['price'] = business_data.get('price','None')\n",
    "\n",
    "\n",
    "                \n",
    "        # Parse and add latitude and longitude columns\n",
    "        prepared_data['latitude'] = business_data['coordinates']['latitude']\n",
    "        prepared_data['longitude'] = business_data['coordinates']['longitude']\n",
    "                \n",
    "        # Add to list if all values are present\n",
    "        if all(prepared_data.values()): \n",
    "            results.append(prepared_data) # this removes businesses where key has no value \n",
    "            # eg 'price' key does not exist for some businesses\n",
    "    \n",
    "    return results\n",
    "\n",
    "# Test out function\n",
    "# Adeline removed limiting index range\n",
    "# Original line: prepared_businesses = prepare_data(full_dataset [:5])\n",
    "prepared_businesses = prepare_data(full_dataset)\n",
    "prepared_businesses[:5]"
   ]
  },
  {
   "cell_type": "markdown",
   "metadata": {},
   "source": [
    "Check that your function created the correct keys:"
   ]
  },
  {
   "cell_type": "code",
   "execution_count": 14,
   "metadata": {},
   "outputs": [],
   "source": [
    "# Run this cell without changes\n",
    "\n",
    "assert sorted(list(prepared_businesses[0].keys())) == ['latitude', 'longitude', 'name', 'price', 'rating', 'review_count']"
   ]
  },
  {
   "cell_type": "markdown",
   "metadata": {},
   "source": [
    "The following code will differ depending on your query, but there may be fewer results in the prepared list than in the full dataset (if any of them were missing data):"
   ]
  },
  {
   "cell_type": "code",
   "execution_count": 15,
   "metadata": {},
   "outputs": [
    {
     "name": "stdout",
     "output_type": "stream",
     "text": [
      "Original: 1000\n",
      "Prepared: 789\n"
     ]
    }
   ],
   "source": [
    "# Run this cell without changes\n",
    "print(\"Original:\", len(full_dataset))\n",
    "print(\"Prepared:\", len(prepared_businesses)) \n",
    "# Fewer values because excluding businesses with keys that had no value associated"
   ]
  },
  {
   "cell_type": "markdown",
   "metadata": {},
   "source": [
    "Great! Now let's create a DataFrame to hold our data - this will make our cleaning and analysis easier."
   ]
  },
  {
   "cell_type": "code",
   "execution_count": 16,
   "metadata": {},
   "outputs": [
    {
     "data": {
      "text/html": [
       "<div>\n",
       "<style scoped>\n",
       "    .dataframe tbody tr th:only-of-type {\n",
       "        vertical-align: middle;\n",
       "    }\n",
       "\n",
       "    .dataframe tbody tr th {\n",
       "        vertical-align: top;\n",
       "    }\n",
       "\n",
       "    .dataframe thead th {\n",
       "        text-align: right;\n",
       "    }\n",
       "</style>\n",
       "<table border=\"1\" class=\"dataframe\">\n",
       "  <thead>\n",
       "    <tr style=\"text-align: right;\">\n",
       "      <th></th>\n",
       "      <th>name</th>\n",
       "      <th>review_count</th>\n",
       "      <th>rating</th>\n",
       "      <th>price</th>\n",
       "      <th>latitude</th>\n",
       "      <th>longitude</th>\n",
       "    </tr>\n",
       "  </thead>\n",
       "  <tbody>\n",
       "    <tr>\n",
       "      <th>0</th>\n",
       "      <td>Prince Street Pizza</td>\n",
       "      <td>3936</td>\n",
       "      <td>4.5</td>\n",
       "      <td>$</td>\n",
       "      <td>40.723088</td>\n",
       "      <td>-73.994530</td>\n",
       "    </tr>\n",
       "    <tr>\n",
       "      <th>1</th>\n",
       "      <td>Juliana's</td>\n",
       "      <td>2339</td>\n",
       "      <td>4.5</td>\n",
       "      <td>$$</td>\n",
       "      <td>40.702747</td>\n",
       "      <td>-73.993435</td>\n",
       "    </tr>\n",
       "    <tr>\n",
       "      <th>2</th>\n",
       "      <td>Lombardi's Pizza</td>\n",
       "      <td>6179</td>\n",
       "      <td>4.0</td>\n",
       "      <td>$$</td>\n",
       "      <td>40.721593</td>\n",
       "      <td>-73.995596</td>\n",
       "    </tr>\n",
       "    <tr>\n",
       "      <th>3</th>\n",
       "      <td>Lucali</td>\n",
       "      <td>1697</td>\n",
       "      <td>4.0</td>\n",
       "      <td>$$</td>\n",
       "      <td>40.681800</td>\n",
       "      <td>-74.000240</td>\n",
       "    </tr>\n",
       "    <tr>\n",
       "      <th>4</th>\n",
       "      <td>Rubirosa</td>\n",
       "      <td>2421</td>\n",
       "      <td>4.5</td>\n",
       "      <td>$$</td>\n",
       "      <td>40.722766</td>\n",
       "      <td>-73.996233</td>\n",
       "    </tr>\n",
       "  </tbody>\n",
       "</table>\n",
       "</div>"
      ],
      "text/plain": [
       "                  name  review_count  rating price   latitude  longitude\n",
       "0  Prince Street Pizza          3936     4.5     $  40.723088 -73.994530\n",
       "1            Juliana's          2339     4.5    $$  40.702747 -73.993435\n",
       "2     Lombardi's Pizza          6179     4.0    $$  40.721593 -73.995596\n",
       "3               Lucali          1697     4.0    $$  40.681800 -74.000240\n",
       "4             Rubirosa          2421     4.5    $$  40.722766 -73.996233"
      ]
     },
     "execution_count": 16,
     "metadata": {},
     "output_type": "execute_result"
    }
   ],
   "source": [
    "# Replace None with appropriate code\n",
    "\n",
    "# Import pandas\n",
    "import pandas as pd\n",
    "\n",
    "# Create DataFrame from prepared business data\n",
    "business_df = pd.DataFrame(prepared_businesses)\n",
    "\n",
    "# Inspect the DataFrame\n",
    "business_df.head()"
   ]
  },
  {
   "cell_type": "markdown",
   "metadata": {},
   "source": [
    "To make analysis of prices easier, let's convert `price` to a numeric value indicating the number of dollar signs."
   ]
  },
  {
   "cell_type": "code",
   "execution_count": 17,
   "metadata": {},
   "outputs": [
    {
     "data": {
      "text/html": [
       "<div>\n",
       "<style scoped>\n",
       "    .dataframe tbody tr th:only-of-type {\n",
       "        vertical-align: middle;\n",
       "    }\n",
       "\n",
       "    .dataframe tbody tr th {\n",
       "        vertical-align: top;\n",
       "    }\n",
       "\n",
       "    .dataframe thead th {\n",
       "        text-align: right;\n",
       "    }\n",
       "</style>\n",
       "<table border=\"1\" class=\"dataframe\">\n",
       "  <thead>\n",
       "    <tr style=\"text-align: right;\">\n",
       "      <th></th>\n",
       "      <th>name</th>\n",
       "      <th>review_count</th>\n",
       "      <th>rating</th>\n",
       "      <th>price</th>\n",
       "      <th>latitude</th>\n",
       "      <th>longitude</th>\n",
       "    </tr>\n",
       "  </thead>\n",
       "  <tbody>\n",
       "    <tr>\n",
       "      <th>0</th>\n",
       "      <td>Prince Street Pizza</td>\n",
       "      <td>3936</td>\n",
       "      <td>4.5</td>\n",
       "      <td>1</td>\n",
       "      <td>40.723088</td>\n",
       "      <td>-73.994530</td>\n",
       "    </tr>\n",
       "    <tr>\n",
       "      <th>1</th>\n",
       "      <td>Juliana's</td>\n",
       "      <td>2339</td>\n",
       "      <td>4.5</td>\n",
       "      <td>2</td>\n",
       "      <td>40.702747</td>\n",
       "      <td>-73.993435</td>\n",
       "    </tr>\n",
       "    <tr>\n",
       "      <th>2</th>\n",
       "      <td>Lombardi's Pizza</td>\n",
       "      <td>6179</td>\n",
       "      <td>4.0</td>\n",
       "      <td>2</td>\n",
       "      <td>40.721593</td>\n",
       "      <td>-73.995596</td>\n",
       "    </tr>\n",
       "    <tr>\n",
       "      <th>3</th>\n",
       "      <td>Lucali</td>\n",
       "      <td>1697</td>\n",
       "      <td>4.0</td>\n",
       "      <td>2</td>\n",
       "      <td>40.681800</td>\n",
       "      <td>-74.000240</td>\n",
       "    </tr>\n",
       "    <tr>\n",
       "      <th>4</th>\n",
       "      <td>Rubirosa</td>\n",
       "      <td>2421</td>\n",
       "      <td>4.5</td>\n",
       "      <td>2</td>\n",
       "      <td>40.722766</td>\n",
       "      <td>-73.996233</td>\n",
       "    </tr>\n",
       "  </tbody>\n",
       "</table>\n",
       "</div>"
      ],
      "text/plain": [
       "                  name  review_count  rating  price   latitude  longitude\n",
       "0  Prince Street Pizza          3936     4.5      1  40.723088 -73.994530\n",
       "1            Juliana's          2339     4.5      2  40.702747 -73.993435\n",
       "2     Lombardi's Pizza          6179     4.0      2  40.721593 -73.995596\n",
       "3               Lucali          1697     4.0      2  40.681800 -74.000240\n",
       "4             Rubirosa          2421     4.5      2  40.722766 -73.996233"
      ]
     },
     "execution_count": 17,
     "metadata": {},
     "output_type": "execute_result"
    }
   ],
   "source": [
    "# Replace None with appropriate code\n",
    "\n",
    "# Convert price to numeric  \n",
    "business_df['price'] = (business_df['price']).str.len()\n",
    "business_df['price'] = pd.to_numeric(business_df['price'])\n",
    "business_df.head()"
   ]
  },
  {
   "cell_type": "markdown",
   "metadata": {},
   "source": [
    "# 4. Perform Descriptive Analysis\n",
    "\n",
    "## Descriptive Statistics\n",
    "\n",
    "Take the businesses from the previous question and do an initial descriptive analysis. Calculate summary statistics for the review counts, average rating, and price."
   ]
  },
  {
   "cell_type": "code",
   "execution_count": 18,
   "metadata": {},
   "outputs": [
    {
     "data": {
      "text/html": [
       "<div>\n",
       "<style scoped>\n",
       "    .dataframe tbody tr th:only-of-type {\n",
       "        vertical-align: middle;\n",
       "    }\n",
       "\n",
       "    .dataframe tbody tr th {\n",
       "        vertical-align: top;\n",
       "    }\n",
       "\n",
       "    .dataframe thead th {\n",
       "        text-align: right;\n",
       "    }\n",
       "</style>\n",
       "<table border=\"1\" class=\"dataframe\">\n",
       "  <thead>\n",
       "    <tr style=\"text-align: right;\">\n",
       "      <th></th>\n",
       "      <th>review_count</th>\n",
       "      <th>rating</th>\n",
       "      <th>price</th>\n",
       "    </tr>\n",
       "  </thead>\n",
       "  <tbody>\n",
       "    <tr>\n",
       "      <th>mean</th>\n",
       "      <td>449.648923</td>\n",
       "      <td>3.904943</td>\n",
       "      <td>1.651458</td>\n",
       "    </tr>\n",
       "    <tr>\n",
       "      <th>median</th>\n",
       "      <td>239.000000</td>\n",
       "      <td>4.000000</td>\n",
       "      <td>2.000000</td>\n",
       "    </tr>\n",
       "    <tr>\n",
       "      <th>std</th>\n",
       "      <td>744.520576</td>\n",
       "      <td>0.453932</td>\n",
       "      <td>0.624328</td>\n",
       "    </tr>\n",
       "  </tbody>\n",
       "</table>\n",
       "</div>"
      ],
      "text/plain": [
       "        review_count    rating     price\n",
       "mean      449.648923  3.904943  1.651458\n",
       "median    239.000000  4.000000  2.000000\n",
       "std       744.520576  0.453932  0.624328"
      ]
     },
     "execution_count": 18,
     "metadata": {},
     "output_type": "execute_result"
    }
   ],
   "source": [
    "# Replace None with appropriate code\n",
    "\n",
    "# Calculate summary statistics for the review counts, average rating, and price\n",
    "\n",
    "# business_df[['review_count','rating','price']].describe()\n",
    "\n",
    "business_df.agg({'review_count':['mean','median','std'],\n",
    "                'rating':['mean','median','std'],\n",
    "                'price':['mean','median','std']})"
   ]
  },
  {
   "cell_type": "markdown",
   "metadata": {},
   "source": [
    "Describe the results displayed above and interpret them in the context of your query. (Your answer may differ from the solution branch depending on your query.)"
   ]
  },
  {
   "cell_type": "code",
   "execution_count": 25,
   "metadata": {},
   "outputs": [
    {
     "name": "stdout",
     "output_type": "stream",
     "text": [
      "\n",
      "Review Count is a positively skewed distribution, where the mean tails to the right and is larger than the median. \n",
      "The large standard deviation also indicates that there are data points that are very far from the mean. \n",
      "The median would be the best measure of central tendency here since the mean is more sensitive to outliers.\n",
      "The results show that most pizza restaurants have a smaller number of reviews, and only a few outlier restaurants \n",
      "with very large numbers of reviews.\n",
      "\n",
      "Rating appears to be a more normalised, symmetrical distribution with the mean and median being very close, \n",
      "and the standard deviation is very small.\n",
      "This means that most pizza restaurant ratings were 4.0, with the majority of ratings falling between the range \n",
      "of 3.5 and 4.5. \n",
      "\n",
      "Price is negatively skewed, with the mean being smaller and nearly a standard deviation less than the median.\n",
      "Most pizza restaurants are cheaply priced between '$' and '$$'. \n",
      "\n"
     ]
    }
   ],
   "source": [
    "# Replace None with appropriate text\n",
    "\"\"\"\n",
    "Review Count has a mean that is much larger than the median. \n",
    "The large standard deviation also indicates that there are data points that are very far from the mean. \n",
    "The median would be the best measure of central tendency here since the mean is more sensitive to outliers.\n",
    "The results show that most pizza restaurants have a smaller number of reviews, and only a few outlier restaurants \n",
    "with very large numbers of reviews.\n",
    "\n",
    "Rating has its mean and median being very close, and the standard deviation is very small.\n",
    "This means that most pizza restaurant ratings were 4.0, with the majority of ratings falling between the range \n",
    "of 3.5 and 4.5. \n",
    "\n",
    "Price is negatively skewed, with the mean being smaller and nearly a standard deviation less than the median.\n",
    "Most pizza restaurants are priced '$$' or cheaper. \n",
    "\"\"\""
   ]
  },
  {
   "cell_type": "markdown",
   "metadata": {},
   "source": [
    "## Histograms\n",
    "\n",
    "Create histograms for the review counts, average rating, and price."
   ]
  },
  {
   "cell_type": "code",
   "execution_count": 20,
   "metadata": {},
   "outputs": [
    {
     "data": {
      "image/png": "[encoded data removed]",
      "text/plain": [
       "<Figure size 1152x360 with 3 Axes>"
      ]
     },
     "metadata": {
      "needs_background": "light"
     },
     "output_type": "display_data"
    }
   ],
   "source": [
    "# Replace None with your code\n",
    "import matplotlib.pyplot as plt\n",
    "%matplotlib inline\n",
    "\n",
    "fig, (ax1, ax2, ax3) = plt.subplots(ncols=3, figsize=(16, 5))\n",
    "\n",
    "# Plot distribution of number of reviews per business\n",
    "all_review_counts = ax1.hist(business_df['review_count'])\n",
    "\n",
    "# Plot distribution of ratings across businesses\n",
    "all_ratings = ax2.hist(business_df['rating'])\n",
    "\n",
    "# Plot distribution of prices across businesses\n",
    "all_prices = ax3.hist(business_df['price'])"
   ]
  },
  {
   "cell_type": "markdown",
   "metadata": {},
   "source": [
    "Describe the distributions displayed above and interpret them in the context of your query. (Your answer may differ from the solution branch depending on your query.)"
   ]
  },
  {
   "cell_type": "code",
   "execution_count": 28,
   "metadata": {},
   "outputs": [
    {
     "name": "stdout",
     "output_type": "stream",
     "text": [
      "\n",
      "Review Count is a positively skewed distribution, where the mean tails to the right because of the few outlier restaurants \n",
      "with very large numbers of reviews. This aligns with the previous assessment using mean, median and standard deviation.\n",
      "The results show that more than 750 out of the 789 pizza restaurants have 2000 reviews or less.\n",
      "\n",
      "Rating appears to be a more normalised, symmetrical distribution as expected from the analysis above that the mean \n",
      "and median are very close, and the standard deviation is very small.\n",
      "The histogram shows that more than half (400 out of 789) of the pizza restaurant ratings was 4.0, with the majority of \n",
      "approximately 700 out of 789 ratings falling between the range of 3.5 and 4.5. \n",
      "\n",
      "Price is negatively skewed, with the mean being smaller and nearly a standard deviation less than the median.\n",
      "Almost 750 out of 789 pizza restaurants were priced between '$' and '$$', with only a few expensive '$$$$' restaurants. \n",
      "\n"
     ]
    }
   ],
   "source": [
    "# Replace None with appropriate text\n",
    "\"\"\"\n",
    "Review Count is a positively skewed distribution, where the mean tails to the right because of the few outlier restaurants \n",
    "with very large numbers of reviews. This aligns with the previous assessment using mean, median and standard deviation.\n",
    "The results show that more than 750 out of the 789 pizza restaurants have 2000 reviews or less.\n",
    "\n",
    "Rating appears to be a more normalised, symmetrical distribution as expected from the analysis above that the mean \n",
    "and median are very close, and the standard deviation is very small.\n",
    "The histogram shows that more than half (400 out of 789) of the pizza restaurant ratings was 4.0, with the majority of \n",
    "approximately 700 out of 789 ratings falling between the range of 3.5 and 4.5. \n",
    "\n",
    "Price is negatively skewed, with the mean being smaller and nearly a standard deviation less than the median.\n",
    "Almost 750 out of 789 pizza restaurants were priced between '$' and '$$', with only a few expensive '$$$$' restaurants. \n",
    "\"\"\""
   ]
  },
  {
   "cell_type": "markdown",
   "metadata": {},
   "source": [
    "## Ratings vs. Price\n",
    "\n",
    "Create a visualization showing the relationship between rating and price. You can do this a few different ways - one option could be to show the average price at each rating using a bar chart."
   ]
  },
  {
   "cell_type": "code",
   "execution_count": 29,
   "metadata": {},
   "outputs": [
    {
     "data": {
      "text/plain": [
       "rating\n",
       "2.0    1.500000\n",
       "2.5    1.333333\n",
       "3.0    1.363636\n",
       "3.5    1.491892\n",
       "4.0    1.763021\n",
       "4.5    1.668790\n",
       "5.0    1.800000\n",
       "Name: price, dtype: float64"
      ]
     },
     "execution_count": 29,
     "metadata": {},
     "output_type": "execute_result"
    }
   ],
   "source": [
    "price_rating = business_df.groupby('rating')['price'].mean()\n",
    "price_rating"
   ]
  },
  {
   "cell_type": "code",
   "execution_count": 30,
   "metadata": {},
   "outputs": [
    {
     "data": {
      "text/plain": [
       "Text(0.5, 1.0, 'Average Price by Rating')"
      ]
     },
     "execution_count": 30,
     "metadata": {},
     "output_type": "execute_result"
    },
    {
     "data": {
      "image/png": "[encoded data removed]",
      "text/plain": [
       "<Figure size 432x288 with 1 Axes>"
      ]
     },
     "metadata": {
      "needs_background": "light"
     },
     "output_type": "display_data"
    }
   ],
   "source": [
    "# Replace None with your code\n",
    "\n",
    "# Calculate average price for each rating\n",
    "price_rating = business_df.groupby('rating')['price'].mean()\n",
    "\n",
    "# Plot results\n",
    "\n",
    "# Create the plot\n",
    "fig, ax = plt.subplots()\n",
    "\n",
    "# Plot both sets of data\n",
    "ax.plot(price_rating)\n",
    "\n",
    "# Add labels for x and y axes\n",
    "ax.set_xlabel('Rating')\n",
    "ax.set_ylabel('Average Price')\n",
    "\n",
    "# Add a title for the plot\n",
    "ax.set_title('Average Price by Rating')"
   ]
  },
  {
   "cell_type": "markdown",
   "metadata": {},
   "source": [
    "Is a higher price associated with a higher rating? (No need for any additional math/statistics, just interpret what you see in the plot.)"
   ]
  },
  {
   "cell_type": "code",
   "execution_count": 31,
   "metadata": {},
   "outputs": [
    {
     "data": {
      "text/plain": [
       "'\\nYes, a higher priced pizza generally received a higher rating. \\nThe cheapest pizzas received a rating of 2.5 whilst the more expensive pizzas recieved a rating of 4.0 or higher.\\n'"
      ]
     },
     "execution_count": 31,
     "metadata": {},
     "output_type": "execute_result"
    }
   ],
   "source": [
    "# Replace None with appropriate text\n",
    "\"\"\"\n",
    "Yes, a higher priced pizza generally received a higher rating. \n",
    "The cheapest pizzas received a rating of 2.5 whilst the more expensive pizzas recieved a rating of 4.0 or higher.\n",
    "\"\"\""
   ]
  },
  {
   "cell_type": "markdown",
   "metadata": {},
   "source": [
    "## Ratings vs Review Counts\n",
    "\n",
    "Finally, let's look at ratings vs. review counts. You can analyze this relationship similarly to ratings vs. price."
   ]
  },
  {
   "cell_type": "code",
   "execution_count": 32,
   "metadata": {},
   "outputs": [
    {
     "data": {
      "text/plain": [
       "Text(0, 0.5, 'Average Review Count')"
      ]
     },
     "execution_count": 32,
     "metadata": {},
     "output_type": "execute_result"
    },
    {
     "data": {
      "image/png": "[encoded data removed]",
      "text/plain": [
       "<Figure size 432x288 with 1 Axes>"
      ]
     },
     "metadata": {
      "needs_background": "light"
     },
     "output_type": "display_data"
    }
   ],
   "source": [
    "# Replace None with your code\n",
    "\n",
    "# Calculate average review count for each rating\n",
    "rating_review_count = business_df.groupby('rating').agg({'review_count': 'mean'})\n",
    "\n",
    "# Plot results\n",
    "fig, ax = plt.subplots()\n",
    "ax.bar(x = list(rating_review_count.index), height = list(rating_review_count['review_count']), width = 0.3)\n",
    "ax.set_xlabel(\"Average Rating\")\n",
    "ax.set_ylabel(\"Average Review Count\")"
   ]
  },
  {
   "cell_type": "markdown",
   "metadata": {},
   "source": [
    "Is a higher number of reviews associated with a higher rating?"
   ]
  },
  {
   "cell_type": "code",
   "execution_count": 34,
   "metadata": {},
   "outputs": [
    {
     "data": {
      "text/plain": [
       "'\\nNo, a high number of reviews did not necessarily mean the pizza restaurant received a higher rating.\\nWhilst the restaurants who received a 4.0 rating from an average of 600 reviews, the restaurants who received a rating \\nof 2.5 and 5.0 had a similar review count average. If the number of reviews was linked to rating, the rating of 5.0 would \\nhave a higher number of reviews. \\n'"
      ]
     },
     "execution_count": 34,
     "metadata": {},
     "output_type": "execute_result"
    }
   ],
   "source": [
    "# Replace None with appropriate text\n",
    "\"\"\"\n",
    "No, a high number of reviews did not necessarily mean the pizza restaurant received a higher rating.\n",
    "Whilst the restaurants who received a 4.0 rating from an average of 600 reviews, the restaurants who received a rating \n",
    "of 2.5 and 5.0 had a similar review count average. If the number of reviews was linked to rating, the rating of 5.0 would \n",
    "have a higher number of reviews. \n",
    "\"\"\""
   ]
  },
  {
   "cell_type": "markdown",
   "metadata": {},
   "source": [
    "## Level Up: Create a Folium Map\n",
    "\n",
    "Make a map using Folium of the businesses you retrieved. Be sure to also add popups to the markers giving some basic information such as name, rating and price.\n",
    "\n",
    "You can center the map around the latitude and longitude of the first item in your dataset."
   ]
  },
  {
   "cell_type": "code",
   "execution_count": 36,
   "metadata": {},
   "outputs": [
    {
     "data": {
      "text/plain": [
       "'None'"
      ]
     },
     "execution_count": 36,
     "metadata": {},
     "output_type": "execute_result"
    }
   ],
   "source": [
    "full_dataset[17].get('price','None')"
   ]
  },
  {
   "cell_type": "code",
   "execution_count": 37,
   "metadata": {},
   "outputs": [
    {
     "data": {
      "text/html": [
       "<div style=\"width:100%;\"><div style=\"position:relative;width:100%;height:0;padding-bottom:60%;\"><span style=\"color:#565656\">Make this Notebook Trusted to load map: File -> Trust Notebook</span><iframe src=\"about:blank\" style=\"position:absolute;width:100%;height:100%;left:0;top:0;border:none !important;\" data-html=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 onload=\"this.contentDocument.open();this.contentDocument.write(atob(this.getAttribute('data-html')));this.contentDocument.close();\" allowfullscreen webkitallowfullscreen mozallowfullscreen></iframe></div></div>"
      ],
      "text/plain": [
       "<folium.folium.Map at 0x23c78b087f0>"
      ]
     },
     "execution_count": 37,
     "metadata": {},
     "output_type": "execute_result"
    }
   ],
   "source": [
    "# Replace None with appropriate code\n",
    "\n",
    "# Import the library\n",
    "import folium\n",
    "\n",
    "# Set up center latitude and longitude\n",
    "centre_lat = full_dataset[0]['coordinates']['latitude']\n",
    "centre_long = full_dataset[0]['coordinates']['longitude']\n",
    "\n",
    "# Initialize map with center lat and long\n",
    "yelp_map = folium.Map([centre_lat, centre_long], zoom_start=12)\n",
    "\n",
    "# Adjust this limit to see more or fewer businesses\n",
    "limit = 20\n",
    "\n",
    "for business in full_dataset[:limit]:\n",
    "    # Extract information about business\n",
    "    lat = business['coordinates']['latitude']\n",
    "    long = business['coordinates']['longitude']\n",
    "    # Baby Luc's [17], Frankie and Vali's [12] are examples of names needing to be fixed for char error in popup\n",
    "    name = business['name'].replace(\"’\",\"'\") \n",
    "    rating = business.get('rating')\n",
    "    price = business.get('price')\n",
    "    details = \"Name:{} \\n Price: {} \\n Rating:{}\".format(name,price,rating)\n",
    "    \n",
    "    # Create popup with relevant details\n",
    "    popup = folium.Popup(details)\n",
    "    \n",
    "    # Create marker with relevant lat/long and popup\n",
    "    marker = folium.Marker(location=[lat, long], popup=popup)\n",
    "    \n",
    "    marker.add_to(yelp_map)\n",
    "    \n",
    "yelp_map"
   ]
  },
  {
   "cell_type": "markdown",
   "metadata": {},
   "source": [
    "# 5. Create Presentation Notebook\n",
    "\n",
    "Now that you've completed your project, let's put it into an easily presentable format so you can add it to your portfolio. To do this, we recommend completing the following steps outside of this notebook.\n",
    "\n",
    "1. Create a new GitHub repository for your project.\n",
    "2. Save a copy of this notebook into your local repository.\n",
    "3. Edit the text and images in the notebook to present your project and help someone else understand it.\n",
    "4. Run your notebook from start to finish, then **delete your API key** and save it.\n",
    "5. Create a README.md file in your repository with a brief summary of your project.\n",
    "6. Push your updated repository to GitHub to share with your instructor and employers!"
   ]
  },
  {
   "cell_type": "markdown",
   "metadata": {},
   "source": [
    "# Level Up: Project Enhancements\n",
    "\n",
    "After completing the project, you could consider the following enhancements if you have time:\n",
    "\n",
    "* Save a cleaned version of your dataset in your repository, then modify the notebook to load and use that dataset for the analysis. This will allow others to replicate your analysis and avoid running their own API queries.\n",
    "* Use `seaborn` to improve the styling of your visualizations\n",
    "* Explain the implications of your findings for business owners or internal Yelp staff\n",
    "* Repeat the project for another business category or location, and compare the results"
   ]
  },
  {
   "cell_type": "markdown",
   "metadata": {},
   "source": [
    "# Summary\n",
    "\n",
    "Nice work! In this lab, you've made multiple API calls to Yelp in order to paginate through a results set, prepared your data for analysis, and then conducted and visualized descriptive analyses. Well done!"
   ]
  }
 ],
 "metadata": {
  "kernelspec": {
   "display_name": "Python 3",
   "language": "python",
   "name": "python3"
  },
  "language_info": {
   "codemirror_mode": {
    "name": "ipython",
    "version": 3
   },
   "file_extension": ".py",
   "mimetype": "text/x-python",
   "name": "python",
   "nbconvert_exporter": "python",
   "pygments_lexer": "ipython3",
   "version": "3.8.5"
  },
  "toc": {
   "base_numbering": 1,
   "nav_menu": {},
   "number_sections": true,
   "sideBar": true,
   "skip_h1_title": false,
   "title_cell": "Table of Contents",
   "title_sidebar": "Contents",
   "toc_cell": false,
   "toc_position": {},
   "toc_section_display": true,
   "toc_window_display": false
  }
 },
 "nbformat": 4,
 "nbformat_minor": 2
}
